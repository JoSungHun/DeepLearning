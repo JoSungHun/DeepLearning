{
  "nbformat": 4,
  "nbformat_minor": 0,
  "metadata": {
    "colab": {
      "name": "hw4.ipynb",
      "version": "0.3.2",
      "provenance": [],
      "collapsed_sections": [],
      "include_colab_link": true
    },
    "kernelspec": {
      "name": "python3",
      "display_name": "Python 3"
    },
    "accelerator": "GPU"
  },
  "cells": [
    {
      "cell_type": "markdown",
      "metadata": {
        "id": "view-in-github",
        "colab_type": "text"
      },
      "source": [
        "<a href=\"https://colab.research.google.com/github/JoSungHun/Deeplearning/blob/master/hw4.ipynb\" target=\"_parent\"><img src=\"https://colab.research.google.com/assets/colab-badge.svg\" alt=\"Open In Colab\"/></a>"
      ]
    },
    {
      "cell_type": "markdown",
      "metadata": {
        "id": "6vFXgflvZ6Ga",
        "colab_type": "text"
      },
      "source": [
        "## Assignment"
      ]
    },
    {
      "cell_type": "markdown",
      "metadata": {
        "id": "UevAU0CYVhiu",
        "colab_type": "text"
      },
      "source": [
        "* Due date: **2018/05/07 00:00** (will not accept late submission)\n",
        "* Submittion format: notebook file which can be executed in Colab environment"
      ]
    },
    {
      "cell_type": "markdown",
      "metadata": {
        "id": "lM-3XHjlwVHh",
        "colab_type": "text"
      },
      "source": [
        "* Sentiment classification model using IMDB dataset\n",
        "  * Compare LSTM and GRU models with **pretrained embedding from Glove**\n",
        "  * You can download Glove model from the below link.\n",
        "    * https://drive.google.com/open?id=1NgMR-bnt02gYTr44BVTo2fRePastYypW"
      ]
    },
    {
      "cell_type": "markdown",
      "metadata": {
        "id": "KxrhNNhWbfHD",
        "colab_type": "text"
      },
      "source": [
        "> ### Prepare the dataset\n"
      ]
    },
    {
      "cell_type": "code",
      "metadata": {
        "id": "j1BDj6qYVfaS",
        "colab_type": "code",
        "outputId": "6a79a4ae-95fd-448d-f616-2bf1d24b0b75",
        "colab": {
          "base_uri": "https://localhost:8080/",
          "height": 34
        }
      },
      "source": [
        "!pip install numpy==1.16.1\n",
        "import numpy as np"
      ],
      "execution_count": 0,
      "outputs": [
        {
          "output_type": "stream",
          "text": [
            "Requirement already satisfied: numpy==1.16.1 in /usr/local/lib/python3.6/dist-packages (1.16.1)\n"
          ],
          "name": "stdout"
        }
      ]
    },
    {
      "cell_type": "code",
      "metadata": {
        "id": "NmLRa5GNeSOi",
        "colab_type": "code",
        "colab": {}
      },
      "source": [
        "from keras.datasets import imdb\n",
        "from keras import preprocessing\n",
        "from keras.preprocessing.text import Tokenizer\n",
        "max_features = 10000\n",
        "maxlen = 500\n",
        "max_words=10000\n",
        "(x_train, y_train), (x_test, y_test) = imdb.load_data(num_words=max_features)\n",
        "\n",
        "x_train = preprocessing.sequence.pad_sequences(x_train, maxlen=maxlen)\n",
        "x_test = preprocessing.sequence.pad_sequences(x_test, maxlen=maxlen)\n",
        "\n",
        "word_index = imdb.get_word_index()\n"
      ],
      "execution_count": 0,
      "outputs": []
    },
    {
      "cell_type": "code",
      "metadata": {
        "id": "UL4r5zVgOVO8",
        "colab_type": "code",
        "outputId": "a5d6ce0c-82e2-459b-8960-130a07bae585",
        "colab": {
          "base_uri": "https://localhost:8080/",
          "height": 34
        }
      },
      "source": [
        "len(x_train)"
      ],
      "execution_count": 0,
      "outputs": [
        {
          "output_type": "execute_result",
          "data": {
            "text/plain": [
              "25000"
            ]
          },
          "metadata": {
            "tags": []
          },
          "execution_count": 17
        }
      ]
    },
    {
      "cell_type": "markdown",
      "metadata": {
        "id": "iQPyGC2kwCqZ",
        "colab_type": "text"
      },
      "source": [
        ">###  임베딩 전처리"
      ]
    },
    {
      "cell_type": "code",
      "metadata": {
        "id": "qwgqoYi6wBTP",
        "colab_type": "code",
        "outputId": "9fb91090-c3c1-456f-f218-59df9d6f452b",
        "colab": {
          "base_uri": "https://localhost:8080/",
          "height": 52
        }
      },
      "source": [
        "import os\n",
        "\n",
        "from google.colab import drive\n",
        "drive.mount('/content/gdrive')\n",
        "\n",
        "glove_dir = '/content/gdrive/My Drive'\n",
        "\n",
        "embeddings_index = {}\n",
        "f = open(os.path.join(glove_dir, 'glove.6B.100d.txt'))\n",
        "for line in f:\n",
        "  values = line.split()\n",
        "  word = values[0]\n",
        "  coefs = np.asarray(values[1:], dtype='float32')\n",
        "  embeddings_index[word] = coefs\n",
        "f.close()  \n",
        "\n",
        "print('Found %s word vectors.' % len(embeddings_index))\n",
        "\n",
        "# preparing the GloVe word-embeddings matrix\n",
        "embedding_dim = 100\n",
        "\n",
        "embedding_matrix = np.zeros((max_words, embedding_dim))\n",
        "for word, i in word_index.items():\n",
        "  embedding_vector = embeddings_index.get(word)\n",
        "  if i < max_words:\n",
        "    if embedding_vector is not None:\n",
        "      embedding_matrix[i] = embedding_vector"
      ],
      "execution_count": 0,
      "outputs": [
        {
          "output_type": "stream",
          "text": [
            "Drive already mounted at /content/gdrive; to attempt to forcibly remount, call drive.mount(\"/content/gdrive\", force_remount=True).\n",
            "Found 400000 word vectors.\n"
          ],
          "name": "stdout"
        }
      ]
    },
    {
      "cell_type": "markdown",
      "metadata": {
        "id": "yWfgUJiPeicE",
        "colab_type": "text"
      },
      "source": [
        "> ### Train LSTM model\n",
        "\n",
        "* Try to find optimal network architecture through controlling the hyperparameters.\n",
        "  * Candidate 1: Embedding layer + 1-layer LSTM with 16 nodes\n",
        "  * Candidate 2: Embedding layer + 2-layer LSTM with 16 nodes\n",
        "  * Candidate 3: Embedding layer + 2-layer LSTM with 32 nodes\n",
        "  \n",
        "* To do this, use randomly selected 20% of training dataset as validation dataset."
      ]
    },
    {
      "cell_type": "code",
      "metadata": {
        "id": "IkBDuL8hScdI",
        "colab_type": "code",
        "outputId": "30069a6a-3b3d-43ae-fda5-f1b76151c3c0",
        "colab": {
          "base_uri": "https://localhost:8080/",
          "height": 34
        }
      },
      "source": [
        "len(x_train)"
      ],
      "execution_count": 0,
      "outputs": [
        {
          "output_type": "execute_result",
          "data": {
            "text/plain": [
              "25000"
            ]
          },
          "metadata": {
            "tags": []
          },
          "execution_count": 19
        }
      ]
    },
    {
      "cell_type": "code",
      "metadata": {
        "id": "O-zI20oQ_w0I",
        "colab_type": "code",
        "colab": {}
      },
      "source": [
        "from sklearn.model_selection import train_test_split\n",
        "\n",
        "\n",
        "#20%의 검증데이터를 훈련데이터에서 랜덤하게 선택하기위해 우선적으로 훈련데이터를 랜덤하게 섞어주고 그 후 마지막 20%를 검증데이터로 사용한다.\n",
        "x_train, x_valid, y_train, y_valid = train_test_split(x_train, y_train, test_size=0.2)\n"
      ],
      "execution_count": 0,
      "outputs": []
    },
    {
      "cell_type": "code",
      "metadata": {
        "id": "hxGWsKkdgAnq",
        "colab_type": "code",
        "outputId": "56d1a5ae-fcc3-4ae8-dc6a-f7879e27b0d8",
        "colab": {
          "base_uri": "https://localhost:8080/",
          "height": 1251
        }
      },
      "source": [
        "from keras.models import Sequential\n",
        "from keras.layers import Embedding, Flatten, Dense, Embedding, LSTM\n",
        "\n",
        "\n",
        "#Candidate 1\n",
        "model = Sequential()\n",
        "model.add(Embedding(max_features, 100))\n",
        "model.add(LSTM(16))\n",
        "model.add(Dense(1, activation='sigmoid'))\n",
        "\n",
        "model.layers[0].set_weights([embedding_matrix])\n",
        "model.layers[0].trainable = False\n",
        "\n",
        "model.compile(optimizer='rmsprop',\n",
        "              loss = 'binary_crossentropy',\n",
        "              metrics=['acc'])\n",
        "\n",
        "\n",
        "lstm_history1 = model.fit(x_train, y_train,\n",
        "                   epochs=10,\n",
        "                   batch_size=128,\n",
        "                   validation_data=(x_valid, y_valid))\n",
        "model.save_weights('LSTM_candidate1_model.h5')\n",
        "\n",
        "#Candidate 2\n",
        "model = Sequential()\n",
        "model.add(Embedding(max_features, 100))\n",
        "model.add(LSTM(16, return_sequences=True))\n",
        "model.add(LSTM(16))\n",
        "model.add(Dense(1, activation='sigmoid'))\n",
        "\n",
        "model.layers[0].set_weights([embedding_matrix])\n",
        "model.layers[0].trainable = False\n",
        "\n",
        "model.compile(optimizer='rmsprop',\n",
        "              loss = 'binary_crossentropy',\n",
        "              metrics=['acc'])\n",
        "\n",
        "lstm_history2 = model.fit(x_train, y_train,\n",
        "                   epochs=10,\n",
        "                   batch_size=128,\n",
        "                   validation_data=(x_valid, y_valid))\n",
        "model.save_weights('LSTM_candidate2_model.h5')\n",
        "\n",
        "#Candidate 3\n",
        "model = Sequential()\n",
        "model.add(Embedding(max_features, 100))\n",
        "model.add(LSTM(32,return_sequences=True))\n",
        "model.add(LSTM(32))\n",
        "model.add(Dense(1, activation='sigmoid'))\n",
        "\n",
        "model.layers[0].set_weights([embedding_matrix])\n",
        "model.layers[0].trainable = False\n",
        "\n",
        "model.compile(optimizer='rmsprop',\n",
        "              loss = 'binary_crossentropy',\n",
        "              metrics=['acc'])\n",
        "\n",
        "lstm_history3 = model.fit(x_train, y_train,\n",
        "                   epochs=10,\n",
        "                   batch_size=128,\n",
        "                   validation_data=(x_valid, y_valid))\n",
        "model.save_weights('LSTM_candidate3_model.h5')"
      ],
      "execution_count": 0,
      "outputs": [
        {
          "output_type": "stream",
          "text": [
            "WARNING:tensorflow:From /usr/local/lib/python3.6/dist-packages/tensorflow/python/framework/op_def_library.py:263: colocate_with (from tensorflow.python.framework.ops) is deprecated and will be removed in a future version.\n",
            "Instructions for updating:\n",
            "Colocations handled automatically by placer.\n",
            "WARNING:tensorflow:From /usr/local/lib/python3.6/dist-packages/tensorflow/python/ops/math_ops.py:3066: to_int32 (from tensorflow.python.ops.math_ops) is deprecated and will be removed in a future version.\n",
            "Instructions for updating:\n",
            "Use tf.cast instead.\n",
            "Train on 20000 samples, validate on 5000 samples\n",
            "Epoch 1/10\n",
            "20000/20000 [==============================] - 110s 6ms/step - loss: 0.6890 - acc: 0.5355 - val_loss: 0.6853 - val_acc: 0.5514\n",
            "Epoch 2/10\n",
            "20000/20000 [==============================] - 110s 6ms/step - loss: 0.6711 - acc: 0.5846 - val_loss: 0.6680 - val_acc: 0.5854\n",
            "Epoch 3/10\n",
            "20000/20000 [==============================] - 108s 5ms/step - loss: 0.6522 - acc: 0.6140 - val_loss: 0.7078 - val_acc: 0.5592\n",
            "Epoch 4/10\n",
            "20000/20000 [==============================] - 109s 5ms/step - loss: 0.6350 - acc: 0.6380 - val_loss: 0.6743 - val_acc: 0.5776\n",
            "Epoch 5/10\n",
            "20000/20000 [==============================] - 111s 6ms/step - loss: 0.6193 - acc: 0.6587 - val_loss: 0.6740 - val_acc: 0.6060\n",
            "Epoch 6/10\n",
            "20000/20000 [==============================] - 109s 5ms/step - loss: 0.6039 - acc: 0.6742 - val_loss: 0.6853 - val_acc: 0.5970\n",
            "Epoch 7/10\n",
            "20000/20000 [==============================] - 110s 5ms/step - loss: 0.5917 - acc: 0.6853 - val_loss: 0.5983 - val_acc: 0.6776\n",
            "Epoch 8/10\n",
            "20000/20000 [==============================] - 109s 5ms/step - loss: 0.5754 - acc: 0.6993 - val_loss: 0.5903 - val_acc: 0.6846\n",
            "Epoch 9/10\n",
            "20000/20000 [==============================] - 109s 5ms/step - loss: 0.5689 - acc: 0.7085 - val_loss: 0.5802 - val_acc: 0.6888\n",
            "Epoch 10/10\n",
            "20000/20000 [==============================] - 110s 5ms/step - loss: 0.5544 - acc: 0.7151 - val_loss: 0.5741 - val_acc: 0.6932\n",
            "Train on 20000 samples, validate on 5000 samples\n",
            "Epoch 1/10\n",
            "20000/20000 [==============================] - 220s 11ms/step - loss: 0.6879 - acc: 0.5398 - val_loss: 0.6889 - val_acc: 0.5342\n",
            "Epoch 2/10\n",
            "20000/20000 [==============================] - 220s 11ms/step - loss: 0.6695 - acc: 0.5913 - val_loss: 0.6713 - val_acc: 0.5870\n",
            "Epoch 3/10\n",
            "20000/20000 [==============================] - 221s 11ms/step - loss: 0.6534 - acc: 0.6169 - val_loss: 0.7941 - val_acc: 0.5388\n",
            "Epoch 4/10\n",
            "20000/20000 [==============================] - 218s 11ms/step - loss: 0.6348 - acc: 0.6408 - val_loss: 0.6854 - val_acc: 0.6008\n",
            "Epoch 5/10\n",
            "20000/20000 [==============================] - 221s 11ms/step - loss: 0.6209 - acc: 0.6576 - val_loss: 0.6267 - val_acc: 0.6404\n",
            "Epoch 6/10\n",
            "20000/20000 [==============================] - 220s 11ms/step - loss: 0.6061 - acc: 0.6724 - val_loss: 0.6669 - val_acc: 0.6398\n",
            "Epoch 7/10\n",
            "20000/20000 [==============================] - 222s 11ms/step - loss: 0.5939 - acc: 0.6828 - val_loss: 0.5969 - val_acc: 0.6732\n",
            "Epoch 8/10\n",
            "20000/20000 [==============================] - 219s 11ms/step - loss: 0.5779 - acc: 0.6941 - val_loss: 0.6099 - val_acc: 0.6612\n",
            "Epoch 9/10\n",
            "20000/20000 [==============================] - 221s 11ms/step - loss: 0.5645 - acc: 0.7051 - val_loss: 0.6214 - val_acc: 0.6650\n",
            "Epoch 10/10\n",
            "20000/20000 [==============================] - 222s 11ms/step - loss: 0.5552 - acc: 0.7142 - val_loss: 0.6746 - val_acc: 0.6178\n",
            "Train on 20000 samples, validate on 5000 samples\n",
            "Epoch 1/10\n",
            "20000/20000 [==============================] - 224s 11ms/step - loss: 0.6834 - acc: 0.5491 - val_loss: 0.6749 - val_acc: 0.5688\n",
            "Epoch 2/10\n",
            "20000/20000 [==============================] - 224s 11ms/step - loss: 0.6602 - acc: 0.6058 - val_loss: 0.6720 - val_acc: 0.5730\n",
            "Epoch 3/10\n",
            "20000/20000 [==============================] - 224s 11ms/step - loss: 0.6367 - acc: 0.6354 - val_loss: 0.6339 - val_acc: 0.6388\n",
            "Epoch 4/10\n",
            "20000/20000 [==============================] - 223s 11ms/step - loss: 0.6130 - acc: 0.6614 - val_loss: 0.6060 - val_acc: 0.6648\n",
            "Epoch 5/10\n",
            "20000/20000 [==============================] - 223s 11ms/step - loss: 0.5904 - acc: 0.6795 - val_loss: 0.6131 - val_acc: 0.6598\n",
            "Epoch 6/10\n",
            "20000/20000 [==============================] - 223s 11ms/step - loss: 0.5731 - acc: 0.6952 - val_loss: 0.7140 - val_acc: 0.6138\n",
            "Epoch 7/10\n",
            "20000/20000 [==============================] - 223s 11ms/step - loss: 0.5524 - acc: 0.7142 - val_loss: 0.5605 - val_acc: 0.7070\n",
            "Epoch 8/10\n",
            "20000/20000 [==============================] - 223s 11ms/step - loss: 0.5347 - acc: 0.7277 - val_loss: 0.5766 - val_acc: 0.6992\n",
            "Epoch 9/10\n",
            "20000/20000 [==============================] - 224s 11ms/step - loss: 0.5199 - acc: 0.7395 - val_loss: 0.5598 - val_acc: 0.7038\n",
            "Epoch 10/10\n",
            "20000/20000 [==============================] - 224s 11ms/step - loss: 0.5037 - acc: 0.7489 - val_loss: 0.5777 - val_acc: 0.6976\n"
          ],
          "name": "stdout"
        }
      ]
    },
    {
      "cell_type": "markdown",
      "metadata": {
        "id": "w0sIu0iibFXN",
        "colab_type": "text"
      },
      "source": [
        "* With the selected architecture, compute the final performance on test dataset.\n",
        "  * 정확도가 비슷하지만 세번째 모델이 제일 높음을 확인할 수 있다.\n",
        "  "
      ]
    },
    {
      "cell_type": "code",
      "metadata": {
        "id": "Kd7k2PkPbdOC",
        "colab_type": "code",
        "outputId": "67c6dd3c-d258-4800-a860-b68557825a79",
        "colab": {
          "base_uri": "https://localhost:8080/",
          "height": 281
        }
      },
      "source": [
        "# plotting the results\n",
        "import matplotlib.pyplot as plt\n",
        "'''\n",
        "for i in range(1,4):\n",
        "  globals()['lstm_acc{}'.format(i)] = globals()['history{}'.format(i).history['acc']]\n",
        "  globals()['lstm_val_acc{}'.format(i)] = globals()['history{}'.format(i).history['val_acc']]\n",
        "  globals()['lstm_loss{}'.format(i)] = globals()['history{}'.format(i).history['loss']]\n",
        "  globals()['lstm_val_loss{}'.format(i)] = globals()['history{}'.format(i).history['val_loss']]\n",
        "\n",
        "'''\n",
        "lstm_acc1 = lstm_history1.history['acc']\n",
        "lstm_val_acc1 = lstm_history1.history['val_acc']\n",
        "lstm_loss1 = lstm_history1.history['loss']\n",
        "lstm_val_loss1 = lstm_history1.history['val_loss']\n",
        "\n",
        "lstm_acc2 = lstm_history1.history['acc']\n",
        "lstm_val_acc2 = lstm_history1.history['val_acc']\n",
        "lstm_loss2 = lstm_history1.history['loss']\n",
        "lstm_val_loss2 = lstm_history1.history['val_loss']\n",
        "\n",
        "lstm_acc3 = lstm_history1.history['acc']\n",
        "lstm_val_acc3 = lstm_history1.history['val_acc']\n",
        "lstm_loss3 = lstm_history1.history['loss']\n",
        "lstm_val_loss3 = lstm_history1.history['val_loss']\n",
        "\n",
        "epochs = range(1, len(lstm_acc1) + 1)\n",
        "\n",
        "plt.subplot(321)\n",
        "plt.plot(epochs, lstm_acc1, 'bo', label='Training acc')\n",
        "plt.plot(epochs, lstm_val_acc1, 'b', label='Validation acc')\n",
        "plt.title('Training and validation accuracy')\n",
        "plt.legend()\n",
        "\n",
        "\n",
        "plt.subplot(322)\n",
        "plt.plot(epochs, lstm_loss1, 'bo', label='Training loss')\n",
        "plt.plot(epochs, lstm_val_loss1, 'b', label='Validation loss')\n",
        "plt.title('Training and validation loss')\n",
        "plt.legend()\n",
        "\n",
        "plt.subplot(323)\n",
        "plt.plot(epochs, lstm_acc2, 'bo', label='Training acc')\n",
        "plt.plot(epochs, lstm_val_acc2, 'b', label='Validation acc')\n",
        "plt.title('Training and validation accuracy')\n",
        "plt.legend()\n",
        "\n",
        "\n",
        "plt.subplot(324)\n",
        "plt.plot(epochs, lstm_loss2, 'bo', label='Training loss')\n",
        "plt.plot(epochs, lstm_val_loss2, 'b', label='Validation loss')\n",
        "plt.title('Training and validation loss')\n",
        "plt.legend()\n",
        "plt.subplot(325)\n",
        "plt.plot(epochs, lstm_acc3, 'bo', label='Training acc')\n",
        "plt.plot(epochs, lstm_val_acc3, 'b', label='Validation acc')\n",
        "plt.title('Training and validation accuracy')\n",
        "plt.legend()\n",
        "\n",
        "\n",
        "plt.subplot(326)\n",
        "plt.plot(epochs, lstm_loss3, 'bo', label='Training loss')\n",
        "plt.plot(epochs, lstm_val_loss3, 'b', label='Validation loss')\n",
        "plt.title('Training and validation loss')\n",
        "plt.legend()\n",
        "\n",
        "plt.show()"
      ],
      "execution_count": 0,
      "outputs": [
        {
          "output_type": "display_data",
          "data": {
            "image/png": "[encoded data removed]",
            "text/plain": [
              "<Figure size 432x288 with 6 Axes>"
            ]
          },
          "metadata": {
            "tags": []
          }
        }
      ]
    },
    {
      "cell_type": "code",
      "metadata": {
        "id": "hmG17P-PY9ld",
        "colab_type": "code",
        "outputId": "b9317e1a-a2bd-47f6-9523-482f639069dd",
        "colab": {
          "base_uri": "https://localhost:8080/",
          "height": 52
        }
      },
      "source": [
        "model.load_weights('LSTM_candidate3_model.h5')\n",
        "model.evaluate(x_test,y_test)"
      ],
      "execution_count": 0,
      "outputs": [
        {
          "output_type": "stream",
          "text": [
            "25000/25000 [==============================] - 227s 9ms/step\n"
          ],
          "name": "stdout"
        },
        {
          "output_type": "execute_result",
          "data": {
            "text/plain": [
              "[0.5711777753829956, 0.70244]"
            ]
          },
          "metadata": {
            "tags": []
          },
          "execution_count": 23
        }
      ]
    },
    {
      "cell_type": "markdown",
      "metadata": {
        "id": "zePZsj_D5ak4",
        "colab_type": "text"
      },
      "source": [
        "70%의 정확도를 보임을 확인할 수 있다."
      ]
    },
    {
      "cell_type": "markdown",
      "metadata": {
        "id": "pS0D5_0iXd_y",
        "colab_type": "text"
      },
      "source": [
        "> ### Train GRU model\n",
        "\n",
        "* Again, try to find optimal network architecture through controlling the hyperparameters.\n",
        "  * Candidate 1: Embedding layer + 1-layer GRU with 16 nodes\n",
        "  * Candidate 2: Embedding layer + 2-layer GRU with 16 nodes\n",
        "  * Candidate 3: Embedding layer + 2-layer GRU with 32 nodes\n",
        "  \n",
        "* To do this, use randomly selected 20% of training dataset as validation dataset."
      ]
    },
    {
      "cell_type": "code",
      "metadata": {
        "id": "L_57rnwjgIIS",
        "colab_type": "code",
        "outputId": "2f9a3ed7-9e5c-49da-cb06-0646b0fbe8a5",
        "colab": {
          "base_uri": "https://localhost:8080/",
          "height": 1126
        }
      },
      "source": [
        "from keras.layers import GRU\n",
        "\n",
        "#검증데이터 20%를 랜덤하게 뽑는것은 앞의 LSTM모델을 만들때 랜덤하게 뽑았으므로 여기서는 하지 않는다.\n",
        "\n",
        "#Candidate 1\n",
        "model = Sequential()\n",
        "model.add(Embedding(max_features, 100))\n",
        "model.add(GRU(16))\n",
        "model.add(Dense(1, activation='sigmoid'))\n",
        "\n",
        "model.layers[0].set_weights([embedding_matrix])\n",
        "model.layers[0].trainable = False\n",
        "\n",
        "model.compile(optimizer='rmsprop',\n",
        "              loss = 'binary_crossentropy',\n",
        "              metrics=['acc'])\n",
        "\n",
        "\n",
        "gru_history1 = model.fit(x_train, y_train,\n",
        "                   epochs=10,\n",
        "                   batch_size=128,\n",
        "                   validation_data=(x_valid, y_valid))\n",
        "model.save_weights('GRU_candidate1_model.h5')\n",
        "\n",
        "#Candidate 2\n",
        "model = Sequential()\n",
        "model.add(Embedding(max_features, 100))\n",
        "model.add(GRU(16, return_sequences=True))\n",
        "model.add(GRU(16))\n",
        "model.add(Dense(1, activation='sigmoid'))\n",
        "\n",
        "model.layers[0].set_weights([embedding_matrix])\n",
        "model.layers[0].trainable = False\n",
        "\n",
        "model.compile(optimizer='rmsprop',\n",
        "              loss = 'binary_crossentropy',\n",
        "              metrics=['acc'])\n",
        "\n",
        "gru_history2 = model.fit(x_train, y_train,\n",
        "                   epochs=10,\n",
        "                   batch_size=128,\n",
        "                   validation_data=(x_valid, y_valid))\n",
        "model.save_weights('GRU_candidate2_model.h5')\n",
        "\n",
        "#Candidate 3\n",
        "model = Sequential()\n",
        "model.add(Embedding(max_features, 100))\n",
        "model.add(GRU(32,return_sequences=True))\n",
        "model.add(GRU(32))\n",
        "model.add(Dense(1, activation='sigmoid'))\n",
        "\n",
        "model.layers[0].set_weights([embedding_matrix])\n",
        "model.layers[0].trainable = False\n",
        "\n",
        "model.compile(optimizer='rmsprop',\n",
        "              loss = 'binary_crossentropy',\n",
        "              metrics=['acc'])\n",
        "\n",
        "gru_history3 = model.fit(x_train, y_train,\n",
        "                   epochs=10,\n",
        "                   batch_size=128,\n",
        "                   validation_data=(x_valid, y_valid))\n",
        "model.save_weights('GRU_candidate3_model.h5')"
      ],
      "execution_count": 0,
      "outputs": [
        {
          "output_type": "stream",
          "text": [
            "Train on 20000 samples, validate on 5000 samples\n",
            "Epoch 1/10\n",
            "20000/20000 [==============================] - 89s 4ms/step - loss: 0.6911 - acc: 0.5344 - val_loss: 0.6850 - val_acc: 0.5524\n",
            "Epoch 2/10\n",
            "20000/20000 [==============================] - 87s 4ms/step - loss: 0.6735 - acc: 0.5806 - val_loss: 0.6727 - val_acc: 0.5780\n",
            "Epoch 3/10\n",
            "20000/20000 [==============================] - 88s 4ms/step - loss: 0.6469 - acc: 0.6210 - val_loss: 0.6539 - val_acc: 0.6126\n",
            "Epoch 4/10\n",
            "20000/20000 [==============================] - 88s 4ms/step - loss: 0.6191 - acc: 0.6546 - val_loss: 0.6675 - val_acc: 0.5984\n",
            "Epoch 5/10\n",
            "20000/20000 [==============================] - 88s 4ms/step - loss: 0.5972 - acc: 0.6771 - val_loss: 0.6073 - val_acc: 0.6730\n",
            "Epoch 6/10\n",
            "20000/20000 [==============================] - 87s 4ms/step - loss: 0.5748 - acc: 0.6979 - val_loss: 0.6193 - val_acc: 0.6562\n",
            "Epoch 7/10\n",
            "20000/20000 [==============================] - 89s 4ms/step - loss: 0.5569 - acc: 0.7153 - val_loss: 0.5517 - val_acc: 0.7202\n",
            "Epoch 8/10\n",
            "20000/20000 [==============================] - 88s 4ms/step - loss: 0.5386 - acc: 0.7281 - val_loss: 0.6078 - val_acc: 0.6860\n",
            "Epoch 9/10\n",
            "20000/20000 [==============================] - 87s 4ms/step - loss: 0.5255 - acc: 0.7392 - val_loss: 0.5246 - val_acc: 0.7418\n",
            "Epoch 10/10\n",
            "20000/20000 [==============================] - 87s 4ms/step - loss: 0.5082 - acc: 0.7504 - val_loss: 0.5111 - val_acc: 0.7510\n",
            "Train on 20000 samples, validate on 5000 samples\n",
            "Epoch 1/10\n",
            "20000/20000 [==============================] - 179s 9ms/step - loss: 0.6872 - acc: 0.5357 - val_loss: 0.6818 - val_acc: 0.5504\n",
            "Epoch 2/10\n",
            "20000/20000 [==============================] - 176s 9ms/step - loss: 0.6707 - acc: 0.5764 - val_loss: 0.7064 - val_acc: 0.5366\n",
            "Epoch 3/10\n",
            "20000/20000 [==============================] - 175s 9ms/step - loss: 0.6476 - acc: 0.6178 - val_loss: 0.6705 - val_acc: 0.5922\n",
            "Epoch 4/10\n",
            "20000/20000 [==============================] - 179s 9ms/step - loss: 0.6208 - acc: 0.6488 - val_loss: 0.6221 - val_acc: 0.6498\n",
            "Epoch 5/10\n",
            "20000/20000 [==============================] - 176s 9ms/step - loss: 0.5973 - acc: 0.6755 - val_loss: 0.6042 - val_acc: 0.6704\n",
            "Epoch 6/10\n",
            "20000/20000 [==============================] - 180s 9ms/step - loss: 0.5757 - acc: 0.6981 - val_loss: 0.5976 - val_acc: 0.6778\n",
            "Epoch 7/10\n",
            "20000/20000 [==============================] - 176s 9ms/step - loss: 0.5565 - acc: 0.7134 - val_loss: 0.6174 - val_acc: 0.6722\n",
            "Epoch 8/10\n",
            "20000/20000 [==============================] - 177s 9ms/step - loss: 0.5406 - acc: 0.7270 - val_loss: 0.5966 - val_acc: 0.6860\n",
            "Epoch 9/10\n",
            "20000/20000 [==============================] - 177s 9ms/step - loss: 0.5225 - acc: 0.7449 - val_loss: 0.5511 - val_acc: 0.7148\n",
            "Epoch 10/10\n",
            "20000/20000 [==============================] - 176s 9ms/step - loss: 0.5102 - acc: 0.7493 - val_loss: 0.5306 - val_acc: 0.7330\n",
            "Train on 20000 samples, validate on 5000 samples\n",
            "Epoch 1/10\n",
            "20000/20000 [==============================] - 181s 9ms/step - loss: 0.6849 - acc: 0.5471 - val_loss: 0.6904 - val_acc: 0.5388\n",
            "Epoch 2/10\n",
            "20000/20000 [==============================] - 177s 9ms/step - loss: 0.6598 - acc: 0.5967 - val_loss: 0.6585 - val_acc: 0.5988\n",
            "Epoch 3/10\n",
            "20000/20000 [==============================] - 178s 9ms/step - loss: 0.6388 - acc: 0.6297 - val_loss: 0.6743 - val_acc: 0.5958\n",
            "Epoch 4/10\n",
            "20000/20000 [==============================] - 178s 9ms/step - loss: 0.6133 - acc: 0.6556 - val_loss: 0.6367 - val_acc: 0.6312\n",
            "Epoch 5/10\n",
            "20000/20000 [==============================] - 180s 9ms/step - loss: 0.5864 - acc: 0.6848 - val_loss: 0.5986 - val_acc: 0.6714\n",
            "Epoch 6/10\n",
            "20000/20000 [==============================] - 179s 9ms/step - loss: 0.5580 - acc: 0.7074 - val_loss: 0.6099 - val_acc: 0.6656\n",
            "Epoch 7/10\n",
            "20000/20000 [==============================] - 177s 9ms/step - loss: 0.5352 - acc: 0.7267 - val_loss: 0.5520 - val_acc: 0.7102\n",
            "Epoch 8/10\n",
            "20000/20000 [==============================] - 178s 9ms/step - loss: 0.5142 - acc: 0.7468 - val_loss: 0.5380 - val_acc: 0.7248\n",
            "Epoch 9/10\n",
            "20000/20000 [==============================] - 176s 9ms/step - loss: 0.4940 - acc: 0.7571 - val_loss: 0.5780 - val_acc: 0.7052\n",
            "Epoch 10/10\n",
            "20000/20000 [==============================] - 180s 9ms/step - loss: 0.4785 - acc: 0.7680 - val_loss: 0.5721 - val_acc: 0.7036\n"
          ],
          "name": "stdout"
        }
      ]
    },
    {
      "cell_type": "markdown",
      "metadata": {
        "id": "bhDWsnWuY5w-",
        "colab_type": "text"
      },
      "source": [
        "* With the selected architecture, compute the final performance on test dataset.\n",
        "  * 첫번째 모델이 75%로 가장 높은 성능을 보인다."
      ]
    },
    {
      "cell_type": "code",
      "metadata": {
        "id": "AiRlj5f6ygSN",
        "colab_type": "code",
        "outputId": "57514946-846e-4596-8111-0fcdd9537e6a",
        "colab": {
          "base_uri": "https://localhost:8080/",
          "height": 281
        }
      },
      "source": [
        "# plotting the results\n",
        "import matplotlib.pyplot as plt\n",
        "\n",
        "\n",
        "gru_acc1 = gru_history1.history['acc']\n",
        "gru_val_acc1 = gru_history1.history['val_acc']\n",
        "gru_loss1 = gru_history1.history['loss']\n",
        "gru_val_loss1 = gru_history1.history['val_loss']\n",
        "\n",
        "gru_acc2 = gru_history2.history['acc']\n",
        "gru_val_acc2 = gru_history2.history['val_acc']\n",
        "gru_loss2 = gru_history2.history['loss']\n",
        "gru_val_loss2 = gru_history2.history['val_loss']\n",
        "\n",
        "gru_acc3 = gru_history3.history['acc']\n",
        "gru_val_acc3 = gru_history3.history['val_acc']\n",
        "gru_loss3 = gru_history3.history['loss']\n",
        "gru_val_loss3 = gru_history3.history['val_loss']\n",
        "\n",
        "epochs = range(1, len(gru_acc1) + 1)\n",
        "\n",
        "plt.subplot(321)\n",
        "plt.plot(epochs, gru_acc1, 'bo', label='Training acc')\n",
        "plt.plot(epochs, gru_val_acc1, 'b', label='Validation acc')\n",
        "plt.title('Training and validation accuracy')\n",
        "plt.legend()\n",
        "\n",
        "\n",
        "plt.subplot(322)\n",
        "plt.plot(epochs, gru_loss1, 'bo', label='Training loss')\n",
        "plt.plot(epochs, gru_val_loss1, 'b', label='Validation loss')\n",
        "plt.title('Training and validation loss')\n",
        "plt.legend()\n",
        "\n",
        "plt.subplot(323)\n",
        "plt.plot(epochs, gru_acc2, 'bo', label='Training acc')\n",
        "plt.plot(epochs, gru_val_acc2, 'b', label='Validation acc')\n",
        "plt.title('Training and validation accuracy')\n",
        "plt.legend()\n",
        "\n",
        "\n",
        "plt.subplot(324)\n",
        "plt.plot(epochs, gru_loss2, 'bo', label='Training loss')\n",
        "plt.plot(epochs, gru_val_loss2, 'b', label='Validation loss')\n",
        "plt.title('Training and validation loss')\n",
        "plt.legend()\n",
        "plt.subplot(325)\n",
        "plt.plot(epochs, gru_acc3, 'bo', label='Training acc')\n",
        "plt.plot(epochs, gru_val_acc3, 'b', label='Validation acc')\n",
        "plt.title('Training and validation accuracy')\n",
        "plt.legend()\n",
        "\n",
        "\n",
        "plt.subplot(326)\n",
        "plt.plot(epochs, gru_loss3, 'bo', label='Training loss')\n",
        "plt.plot(epochs, gru_val_loss3, 'b', label='Validation loss')\n",
        "plt.title('Training and validation loss')\n",
        "plt.legend()\n",
        "\n",
        "plt.show()"
      ],
      "execution_count": 0,
      "outputs": [
        {
          "output_type": "display_data",
          "data": {
            "image/png": "[encoded data removed]",
            "text/plain": [
              "<Figure size 432x288 with 6 Axes>"
            ]
          },
          "metadata": {
            "tags": []
          }
        }
      ]
    },
    {
      "cell_type": "code",
      "metadata": {
        "id": "mit16co43wH0",
        "colab_type": "code",
        "outputId": "32026405-c641-45cf-8f61-de5d3800ef26",
        "colab": {
          "base_uri": "https://localhost:8080/",
          "height": 52
        }
      },
      "source": [
        "model = Sequential()\n",
        "model.add(Embedding(max_features, 100))\n",
        "model.add(GRU(16))\n",
        "model.add(Dense(1, activation='sigmoid'))\n",
        "\n",
        "model.layers[0].set_weights([embedding_matrix])\n",
        "model.layers[0].trainable = False\n",
        "\n",
        "model.compile(optimizer='rmsprop',\n",
        "              loss = 'binary_crossentropy',\n",
        "              metrics=['acc'])\n",
        "\n",
        "model.load_weights('GRU_candidate1_model.h5')\n",
        "model.evaluate(x_test,y_test)"
      ],
      "execution_count": 0,
      "outputs": [
        {
          "output_type": "stream",
          "text": [
            "25000/25000 [==============================] - 95s 4ms/step\n"
          ],
          "name": "stdout"
        },
        {
          "output_type": "execute_result",
          "data": {
            "text/plain": [
              "[0.5103734338855743, 0.74992]"
            ]
          },
          "metadata": {
            "tags": []
          },
          "execution_count": 26
        }
      ]
    },
    {
      "cell_type": "markdown",
      "metadata": {
        "id": "CXYUnW_r5HSr",
        "colab_type": "text"
      },
      "source": [
        "약 75%의 정확도를 보임을 확인할 수 있다."
      ]
    }
  ]
}