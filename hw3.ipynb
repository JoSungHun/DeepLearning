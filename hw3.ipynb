{
  "nbformat": 4,
  "nbformat_minor": 0,
  "metadata": {
    "colab": {
      "name": "hw3.ipynb",
      "version": "0.3.2",
      "provenance": [],
      "collapsed_sections": [],
      "include_colab_link": true
    },
    "kernelspec": {
      "name": "python3",
      "display_name": "Python 3"
    },
    "accelerator": "GPU"
  },
  "cells": [
    {
      "cell_type": "markdown",
      "metadata": {
        "id": "view-in-github",
        "colab_type": "text"
      },
      "source": [
        "<a href=\"https://colab.research.google.com/github/JoSungHun/Deeplearning/blob/master/hw3.ipynb\" target=\"_parent\"><img src=\"https://colab.research.google.com/assets/colab-badge.svg\" alt=\"Open In Colab\"/></a>"
      ]
    },
    {
      "metadata": {
        "id": "6vFXgflvZ6Ga",
        "colab_type": "text"
      },
      "cell_type": "markdown",
      "source": [
        "## Assignment"
      ]
    },
    {
      "metadata": {
        "id": "UevAU0CYVhiu",
        "colab_type": "text"
      },
      "cell_type": "markdown",
      "source": [
        "* Due date: **2018/04/23 00:00** (will not accept late submission)\n",
        "* Submittion format: notebook file which can be executed in Colab environment"
      ]
    },
    {
      "metadata": {
        "id": "FH-S9c5dYgqd",
        "colab_type": "text"
      },
      "cell_type": "markdown",
      "source": [
        "* We will train CNN using `dogs_vs_cats_subset.zip` distributed in the class."
      ]
    },
    {
      "metadata": {
        "id": "KxrhNNhWbfHD",
        "colab_type": "text"
      },
      "cell_type": "markdown",
      "source": [
        "> ### Prepare the dataset\n",
        "\n",
        "* Place the unzipped files in some directory on your Colab instance.\n",
        "* Count the number of JPEG files in `train`, `validation`, and `test` folders."
      ]
    },
    {
      "metadata": {
        "id": "0lif2DVeKGD8",
        "colab_type": "code",
        "colab": {}
      },
      "cell_type": "code",
      "source": [
        "import keras\n",
        "import numpy as np"
      ],
      "execution_count": 0,
      "outputs": []
    },
    {
      "metadata": {
        "id": "F4i1npHsC3gG",
        "colab_type": "code",
        "outputId": "b35be1a8-9130-462b-8992-d926cc9a5e22",
        "colab": {
          "base_uri": "https://localhost:8080/",
          "height": 35
        }
      },
      "cell_type": "code",
      "source": [
        "%rm -r '/content/dogs_vs_cats_subset'"
      ],
      "execution_count": 0,
      "outputs": [
        {
          "output_type": "stream",
          "text": [
            "rm: cannot remove '/content/dogs_vs_cats_subset': No such file or directory\n"
          ],
          "name": "stdout"
        }
      ]
    },
    {
      "metadata": {
        "id": "NmLRa5GNeSOi",
        "colab_type": "code",
        "outputId": "0219eeed-87ae-4789-84e4-ac5de6ffdcdd",
        "colab": {
          "base_uri": "https://localhost:8080/",
          "height": 143
        }
      },
      "cell_type": "code",
      "source": [
        "from google.colab import drive\n",
        "drive.mount('/content/gdriv')\n",
        "\n",
        "import zipfile, os, shutil\n",
        "\n",
        "dataset = '/content/gdriv/My Drive/딥러닝/딥러닝 수업/dogs_vs_cats_subset.zip'\n",
        "dst_path = '/content/dogs_vs_cats_subset'\n",
        "dst_file = os.path.join(dst_path, 'dogs_vs_cats_subset.zip')\n",
        "\n",
        "os.makedirs(dst_path)\n",
        "\n",
        "shutil.copy(dataset, dst_file)\n",
        "\n",
        "with zipfile.ZipFile(dst_file, 'r') as file:\n",
        "  file.extractall(dst_path)\n",
        "  \n",
        "train_cats_dir = os.path.join(dst_path, 'subset/train/cats')\n",
        "train_dogs_dir = os.path.join(dst_path, 'subset/train/dogs')\n",
        "\n",
        "validation_cats_dir = os.path.join(dst_path, 'subset/validation/cats')\n",
        "validation_dogs_dir = os.path.join(dst_path, 'subset/validation/dogs')\n",
        "\n",
        "test_cats_dir = os.path.join(dst_path, 'subset/test/cats')\n",
        "test_dogs_dir = os.path.join(dst_path, 'subset/test/dogs')\n",
        "\n",
        "train_dir = os.path.join(dst_path, 'subset/train')\n",
        "val_dir = os.path.join(dst_path, 'subset/validation')\n",
        "\n",
        "print('total training cat images:', len(os.listdir(train_cats_dir)))\n",
        "print('total training dog images:', len(os.listdir(train_dogs_dir)))\n",
        "\n",
        "print('total validation cat images:', len(os.listdir(validation_cats_dir)))\n",
        "print('total validation dog images:', len(os.listdir(validation_dogs_dir)))\n",
        "\n",
        "print('total test cat images:', len(os.listdir(test_cats_dir)))\n",
        "print('total test dog images:', len(os.listdir(test_dogs_dir)))"
      ],
      "execution_count": 0,
      "outputs": [
        {
          "output_type": "stream",
          "text": [
            "Drive already mounted at /content/gdriv; to attempt to forcibly remount, call drive.mount(\"/content/gdriv\", force_remount=True).\n",
            "total training cat images: 1000\n",
            "total training dog images: 1000\n",
            "total validation cat images: 500\n",
            "total validation dog images: 500\n",
            "total test cat images: 500\n",
            "total test dog images: 500\n"
          ],
          "name": "stdout"
        }
      ]
    },
    {
      "metadata": {
        "id": "yWfgUJiPeicE",
        "colab_type": "text"
      },
      "cell_type": "markdown",
      "source": [
        "> ### Build the network\n",
        "\n",
        "* Build a convolutional neural network having the following layers.\n",
        "  * Assume that the input of size (150, 150) and `relu` activations\n",
        "  * Preserve spatial resolution of input tensor by padding\n",
        "  * Layer 1: convolutional layer with kernel size 5, stride 2, 16 filters\n",
        "  * Layer 2: convolutional layer with kernel size 3, stride 2, 16 filters\n",
        "  * Layer 3: convolutional layer with kernel size 3, stride 2, 16 filters\n",
        "  * Layer 4: convolutional layer with kernel size 3, stride 2, 32 filters\n",
        "  * Layer 5: convolutional layer with kernel size 3, stride 2, 32 filters\n",
        "  * Layer 6: fully connected layer with 64 hidden nodes\n",
        "  * Layer 7: (output layer) fully connected layer with **2 output nodes**\n",
        "  * Others not specified should be chosen yourself."
      ]
    },
    {
      "metadata": {
        "id": "hxGWsKkdgAnq",
        "colab_type": "code",
        "outputId": "8f3e1a7c-4264-4325-a9ca-11172d0fa06f",
        "colab": {
          "base_uri": "https://localhost:8080/",
          "height": 71
        }
      },
      "cell_type": "code",
      "source": [
        "from keras import layers\n",
        "from keras import models\n",
        "\n",
        "model = models.Sequential()\n",
        "model.add(layers.Conv2D(16, (5,5), strides=(2, 2), padding='same', activation='relu', input_shape=(150,150,3)))\n",
        "model.add(layers.Conv2D(16, (3,3), strides=(2, 2), padding='same', activation='relu'))\n",
        "model.add(layers.Conv2D(16, (3,3), strides=(2, 2), padding='same', activation='relu'))\n",
        "model.add(layers.Conv2D(32, (3,3), strides=(2, 2), padding='same', activation='relu'))\n",
        "model.add(layers.Conv2D(32, (3,3), strides=(2, 2), padding='same', activation='relu'))\n",
        "model.add(layers.Flatten())\n",
        "model.add(layers.Dense(64, activation='relu'))\n",
        "model.add(layers.Dense(2, activation ='softmax' ))"
      ],
      "execution_count": 0,
      "outputs": [
        {
          "output_type": "stream",
          "text": [
            "WARNING:tensorflow:From /usr/local/lib/python3.6/dist-packages/tensorflow/python/framework/op_def_library.py:263: colocate_with (from tensorflow.python.framework.ops) is deprecated and will be removed in a future version.\n",
            "Instructions for updating:\n",
            "Colocations handled automatically by placer.\n"
          ],
          "name": "stdout"
        }
      ]
    },
    {
      "metadata": {
        "id": "w0sIu0iibFXN",
        "colab_type": "text"
      },
      "cell_type": "markdown",
      "source": [
        "* Print the summary of model.\n",
        "* **Explain** how to compute the total number of trainable parameters."
      ]
    },
    {
      "metadata": {
        "id": "Kd7k2PkPbdOC",
        "colab_type": "code",
        "outputId": "7210c6bb-9bac-4116-d28d-47f18c0b1323",
        "colab": {
          "base_uri": "https://localhost:8080/",
          "height": 431
        }
      },
      "cell_type": "code",
      "source": [
        "model.summary()"
      ],
      "execution_count": 0,
      "outputs": [
        {
          "output_type": "stream",
          "text": [
            "_________________________________________________________________\n",
            "Layer (type)                 Output Shape              Param #   \n",
            "=================================================================\n",
            "conv2d_1 (Conv2D)            (None, 75, 75, 16)        1216      \n",
            "_________________________________________________________________\n",
            "conv2d_2 (Conv2D)            (None, 38, 38, 16)        2320      \n",
            "_________________________________________________________________\n",
            "conv2d_3 (Conv2D)            (None, 19, 19, 16)        2320      \n",
            "_________________________________________________________________\n",
            "conv2d_4 (Conv2D)            (None, 10, 10, 32)        4640      \n",
            "_________________________________________________________________\n",
            "conv2d_5 (Conv2D)            (None, 5, 5, 32)          9248      \n",
            "_________________________________________________________________\n",
            "flatten_1 (Flatten)          (None, 800)               0         \n",
            "_________________________________________________________________\n",
            "dense_1 (Dense)              (None, 64)                51264     \n",
            "_________________________________________________________________\n",
            "dense_2 (Dense)              (None, 2)                 130       \n",
            "=================================================================\n",
            "Total params: 71,138\n",
            "Trainable params: 71,138\n",
            "Non-trainable params: 0\n",
            "_________________________________________________________________\n"
          ],
          "name": "stdout"
        }
      ]
    },
    {
      "metadata": {
        "id": "-jeNRmf8ULSO",
        "colab_type": "text"
      },
      "cell_type": "markdown",
      "source": [
        "###Explain\n",
        "파라미터의 수는 \n",
        "Conv2D레이어의 경우 입력채널 * 필터 폭 * 필터 높이 * 출력채널 + 바이어스\n",
        "\n",
        "Dense 레이어의 경우 이전 노드와 그다음 노드가 모두 연결되어서 이전노드 * 출력 노드 + 바이어스\n"
      ]
    },
    {
      "metadata": {
        "id": "j0TUwiHLgI_-",
        "colab_type": "text"
      },
      "cell_type": "markdown",
      "source": [
        "\n",
        "> ### Preprocess \n",
        "\n",
        "  * Currently, the data is stored as JPEG files. So we need the following steps:\n",
        "    * Read the picture files.\n",
        "    * Decode the JPEG content to RGB grids of pixels.\n",
        "    * Convert these into floating-point tensors.\n",
        "    * Normalize the data to have zero mean and unit variance.\n",
        "      * Assume that the mean of training data is [123.68, 116.779, 103.939]. Here, each value represents the mean for each channel.\n",
        "      * Also, we know that the std of training data is [58.40, 57.12, 57.38]. Again, each value represents the std for each channel. \n",
        "      * You should normalize the input data using the above statistics, i.e., input[channel] = (input[channel] - mean[channel]) / std[channel].\n",
        "      * TIP: google \"keras imagedatagenerator normalization\" and/or refer to Keras documentation.\n",
        "      * Note that the validation and test data should be normalized using the statistics calculated from the training dataset.\n",
        "    \n",
        "  * Make `ImageDataGenerator` instances for the training and validation dataset respectively to obtain batches of preprocessed tensors.\n",
        "    * Set `batch_size` to 20.\n"
      ]
    },
    {
      "metadata": {
        "id": "g1mIkdGs1wx8",
        "colab_type": "code",
        "outputId": "11582635-bd50-41c7-a2b6-08e6b3573ad0",
        "colab": {
          "base_uri": "https://localhost:8080/",
          "height": 53
        }
      },
      "cell_type": "code",
      "source": [
        "from keras.preprocessing.image import ImageDataGenerator\n",
        "from keras.preprocessing import image\n",
        "\n",
        "\n",
        "\n",
        "datagen = image.ImageDataGenerator(featurewise_center=True,\n",
        "                                   featurewise_std_normalization=True)\n",
        "\n",
        "train_batches = datagen.flow_from_directory(train_dir,\n",
        "                                      target_size=(150,150),\n",
        "                                      color_mode='rgb',\n",
        "                                      class_mode='categorical',\n",
        "                                      shuffle=True,\n",
        "                                      batch_size=20)\n",
        "\n",
        "val_batches = datagen.flow_from_directory(val_dir,\n",
        "                                      target_size=(150,150),\n",
        "                                      color_mode='rgb',\n",
        "                                      class_mode='categorical',\n",
        "                                      shuffle=True,\n",
        "                                      batch_size=20)"
      ],
      "execution_count": 0,
      "outputs": [
        {
          "output_type": "stream",
          "text": [
            "Found 2000 images belonging to 2 classes.\n",
            "Found 1000 images belonging to 2 classes.\n"
          ],
          "name": "stdout"
        }
      ]
    },
    {
      "metadata": {
        "id": "pS0D5_0iXd_y",
        "colab_type": "text"
      },
      "cell_type": "markdown",
      "source": [
        "> ### Train the network\n",
        "\n",
        "* Train the network for 50 epochs. It may consume some time."
      ]
    },
    {
      "metadata": {
        "id": "L_57rnwjgIIS",
        "colab_type": "code",
        "outputId": "a093624e-1ea6-43ab-d171-6e1c1b059bdc",
        "colab": {
          "base_uri": "https://localhost:8080/",
          "height": 1871
        }
      },
      "cell_type": "code",
      "source": [
        "model.compile(optimizer='rmsprop',\n",
        "              loss='categorical_crossentropy',\n",
        "              metrics=['accuracy'])\n",
        "\n",
        "history = model.fit_generator(\n",
        "train_batches,\n",
        "steps_per_epoch = 100,\n",
        "epochs = 50,\n",
        "validation_data = val_batches,\n",
        "validation_steps = 50)"
      ],
      "execution_count": 0,
      "outputs": [
        {
          "output_type": "stream",
          "text": [
            "WARNING:tensorflow:From /usr/local/lib/python3.6/dist-packages/tensorflow/python/ops/math_ops.py:3066: to_int32 (from tensorflow.python.ops.math_ops) is deprecated and will be removed in a future version.\n",
            "Instructions for updating:\n",
            "Use tf.cast instead.\n",
            "Epoch 1/50\n",
            "100/100 [==============================] - 11s 113ms/step - loss: 0.6923 - acc: 0.5455 - val_loss: 0.6919 - val_acc: 0.5370\n",
            "Epoch 2/50\n",
            "100/100 [==============================] - 8s 84ms/step - loss: 0.6516 - acc: 0.6090 - val_loss: 0.6622 - val_acc: 0.6130\n",
            "Epoch 3/50\n",
            "100/100 [==============================] - 8s 85ms/step - loss: 0.6045 - acc: 0.6725 - val_loss: 0.6545 - val_acc: 0.6400\n",
            "Epoch 4/50\n",
            "100/100 [==============================] - 9s 86ms/step - loss: 0.5624 - acc: 0.7205 - val_loss: 0.6506 - val_acc: 0.6490\n",
            "Epoch 5/50\n",
            "100/100 [==============================] - 10s 96ms/step - loss: 0.5075 - acc: 0.7560 - val_loss: 0.6377 - val_acc: 0.6410\n",
            "Epoch 6/50\n",
            "100/100 [==============================] - 8s 84ms/step - loss: 0.4330 - acc: 0.7955 - val_loss: 0.6883 - val_acc: 0.6550\n",
            "Epoch 7/50\n",
            "100/100 [==============================] - 8s 84ms/step - loss: 0.3626 - acc: 0.8405 - val_loss: 0.7663 - val_acc: 0.6450\n",
            "Epoch 8/50\n",
            "100/100 [==============================] - 8s 84ms/step - loss: 0.2882 - acc: 0.8745 - val_loss: 0.9586 - val_acc: 0.6470\n",
            "Epoch 9/50\n",
            "100/100 [==============================] - 8s 84ms/step - loss: 0.2088 - acc: 0.9195 - val_loss: 1.1369 - val_acc: 0.6560\n",
            "Epoch 10/50\n",
            "100/100 [==============================] - 8s 85ms/step - loss: 0.1559 - acc: 0.9435 - val_loss: 1.1985 - val_acc: 0.6560\n",
            "Epoch 11/50\n",
            "100/100 [==============================] - 8s 84ms/step - loss: 0.1127 - acc: 0.9595 - val_loss: 1.2732 - val_acc: 0.6390\n",
            "Epoch 12/50\n",
            "100/100 [==============================] - 8s 84ms/step - loss: 0.0895 - acc: 0.9660 - val_loss: 1.4947 - val_acc: 0.6520\n",
            "Epoch 13/50\n",
            "100/100 [==============================] - 8s 84ms/step - loss: 0.0511 - acc: 0.9815 - val_loss: 2.1803 - val_acc: 0.6200\n",
            "Epoch 14/50\n",
            "100/100 [==============================] - 9s 94ms/step - loss: 0.0643 - acc: 0.9770 - val_loss: 1.7904 - val_acc: 0.6300\n",
            "Epoch 15/50\n",
            "100/100 [==============================] - 9s 88ms/step - loss: 0.0629 - acc: 0.9830 - val_loss: 2.1137 - val_acc: 0.6370\n",
            "Epoch 16/50\n",
            "100/100 [==============================] - 9s 85ms/step - loss: 0.0524 - acc: 0.9815 - val_loss: 1.8920 - val_acc: 0.6540\n",
            "Epoch 17/50\n",
            "100/100 [==============================] - 8s 85ms/step - loss: 0.0622 - acc: 0.9825 - val_loss: 1.9724 - val_acc: 0.6370\n",
            "Epoch 18/50\n",
            "100/100 [==============================] - 8s 85ms/step - loss: 0.0437 - acc: 0.9870 - val_loss: 2.2270 - val_acc: 0.6310\n",
            "Epoch 19/50\n",
            "100/100 [==============================] - 8s 85ms/step - loss: 0.0461 - acc: 0.9845 - val_loss: 2.3616 - val_acc: 0.6360\n",
            "Epoch 20/50\n",
            "100/100 [==============================] - 8s 84ms/step - loss: 0.0257 - acc: 0.9905 - val_loss: 2.6620 - val_acc: 0.6290\n",
            "Epoch 21/50\n",
            "100/100 [==============================] - 8s 84ms/step - loss: 0.0440 - acc: 0.9860 - val_loss: 2.5118 - val_acc: 0.6330\n",
            "Epoch 22/50\n",
            "100/100 [==============================] - 8s 84ms/step - loss: 0.0371 - acc: 0.9905 - val_loss: 2.4427 - val_acc: 0.6330\n",
            "Epoch 23/50\n",
            "100/100 [==============================] - 9s 90ms/step - loss: 0.0364 - acc: 0.9895 - val_loss: 2.8178 - val_acc: 0.6320\n",
            "Epoch 24/50\n",
            "100/100 [==============================] - 9s 93ms/step - loss: 0.0283 - acc: 0.9920 - val_loss: 2.6961 - val_acc: 0.6380\n",
            "Epoch 25/50\n",
            "100/100 [==============================] - 8s 85ms/step - loss: 0.0363 - acc: 0.9885 - val_loss: 2.5423 - val_acc: 0.6480\n",
            "Epoch 26/50\n",
            "100/100 [==============================] - 8s 84ms/step - loss: 0.0273 - acc: 0.9895 - val_loss: 2.8462 - val_acc: 0.6360\n",
            "Epoch 27/50\n",
            "100/100 [==============================] - 8s 84ms/step - loss: 0.0260 - acc: 0.9900 - val_loss: 2.8284 - val_acc: 0.6280\n",
            "Epoch 28/50\n",
            "100/100 [==============================] - 9s 89ms/step - loss: 0.0197 - acc: 0.9940 - val_loss: 2.9458 - val_acc: 0.6200\n",
            "Epoch 29/50\n",
            "100/100 [==============================] - 9s 94ms/step - loss: 0.0194 - acc: 0.9945 - val_loss: 3.1450 - val_acc: 0.6280\n",
            "Epoch 30/50\n",
            "100/100 [==============================] - 8s 84ms/step - loss: 0.0211 - acc: 0.9915 - val_loss: 3.0239 - val_acc: 0.6330\n",
            "Epoch 31/50\n",
            "100/100 [==============================] - 8s 84ms/step - loss: 0.0315 - acc: 0.9910 - val_loss: 3.5814 - val_acc: 0.6220\n",
            "Epoch 32/50\n",
            "100/100 [==============================] - 9s 87ms/step - loss: 0.0384 - acc: 0.9890 - val_loss: 3.1800 - val_acc: 0.6250\n",
            "Epoch 33/50\n",
            "100/100 [==============================] - 10s 95ms/step - loss: 0.0318 - acc: 0.9905 - val_loss: 3.0068 - val_acc: 0.6280\n",
            "Epoch 34/50\n",
            "100/100 [==============================] - 9s 87ms/step - loss: 0.0326 - acc: 0.9870 - val_loss: 2.9457 - val_acc: 0.6270\n",
            "Epoch 35/50\n",
            "100/100 [==============================] - 9s 88ms/step - loss: 0.0246 - acc: 0.9900 - val_loss: 3.7358 - val_acc: 0.6210\n",
            "Epoch 36/50\n",
            "100/100 [==============================] - 8s 84ms/step - loss: 0.0320 - acc: 0.9895 - val_loss: 3.1367 - val_acc: 0.6410\n",
            "Epoch 37/50\n",
            "100/100 [==============================] - 8s 83ms/step - loss: 0.0191 - acc: 0.9940 - val_loss: 3.4308 - val_acc: 0.6240\n",
            "Epoch 38/50\n",
            "100/100 [==============================] - 8s 84ms/step - loss: 0.0224 - acc: 0.9930 - val_loss: 3.1399 - val_acc: 0.6380\n",
            "Epoch 39/50\n",
            "100/100 [==============================] - 8s 84ms/step - loss: 0.0194 - acc: 0.9950 - val_loss: 3.2415 - val_acc: 0.6390\n",
            "Epoch 40/50\n",
            "100/100 [==============================] - 8s 84ms/step - loss: 0.0331 - acc: 0.9915 - val_loss: 3.2627 - val_acc: 0.6380\n",
            "Epoch 41/50\n",
            "100/100 [==============================] - 8s 83ms/step - loss: 0.0378 - acc: 0.9895 - val_loss: 3.4564 - val_acc: 0.6300\n",
            "Epoch 42/50\n",
            "100/100 [==============================] - 10s 96ms/step - loss: 0.0256 - acc: 0.9910 - val_loss: 3.6750 - val_acc: 0.6240\n",
            "Epoch 43/50\n",
            "100/100 [==============================] - 9s 86ms/step - loss: 0.0457 - acc: 0.9865 - val_loss: 3.5259 - val_acc: 0.6190\n",
            "Epoch 44/50\n",
            "100/100 [==============================] - 8s 84ms/step - loss: 0.0371 - acc: 0.9895 - val_loss: 3.2303 - val_acc: 0.6290\n",
            "Epoch 45/50\n",
            "100/100 [==============================] - 8s 84ms/step - loss: 0.0281 - acc: 0.9925 - val_loss: 3.4730 - val_acc: 0.6290\n",
            "Epoch 46/50\n",
            "100/100 [==============================] - 9s 86ms/step - loss: 0.0265 - acc: 0.9920 - val_loss: 3.4789 - val_acc: 0.6350\n",
            "Epoch 47/50\n",
            "100/100 [==============================] - 8s 85ms/step - loss: 0.0297 - acc: 0.9940 - val_loss: 3.2752 - val_acc: 0.6360\n",
            "Epoch 48/50\n",
            "100/100 [==============================] - 8s 85ms/step - loss: 0.0215 - acc: 0.9945 - val_loss: 3.6392 - val_acc: 0.6270\n",
            "Epoch 49/50\n",
            "100/100 [==============================] - 8s 84ms/step - loss: 0.0253 - acc: 0.9925 - val_loss: 3.6664 - val_acc: 0.6160\n",
            "Epoch 50/50\n",
            "100/100 [==============================] - 8s 85ms/step - loss: 0.0259 - acc: 0.9950 - val_loss: 3.3600 - val_acc: 0.6450\n"
          ],
          "name": "stdout"
        }
      ]
    },
    {
      "metadata": {
        "id": "r9HNF524XkCy",
        "colab_type": "text"
      },
      "cell_type": "markdown",
      "source": [
        "> ### Plot training and validation accuracy\n",
        "\n",
        "* Plot training and validation accuracy and discuss their behavior."
      ]
    },
    {
      "metadata": {
        "id": "bhDWsnWuY5w-",
        "colab_type": "code",
        "colab": {}
      },
      "cell_type": "code",
      "source": [
        "model.save('cats_and_dogs_subset_2.h5')"
      ],
      "execution_count": 0,
      "outputs": []
    },
    {
      "metadata": {
        "id": "Rac_f8Nh_SzQ",
        "colab_type": "code",
        "outputId": "2cabd138-f36f-4ef8-e65b-7e7405a17c14",
        "colab": {
          "base_uri": "https://localhost:8080/",
          "height": 545
        }
      },
      "cell_type": "code",
      "source": [
        "import matplotlib.pyplot as plt\n",
        "\n",
        "acc = history.history['acc'] \n",
        "val_acc = history.history['val_acc'] \n",
        "loss = history.history['loss'] \n",
        "val_loss = history.history['val_loss']\n",
        "\n",
        "epochs = range(1, len(acc) + 1)\n",
        "\n",
        "plt.plot(epochs, acc, 'bo', label='Training acc') \n",
        "plt.plot(epochs, val_acc, 'b', label='Validation acc') \n",
        "plt.title('Training and validation accuracy') \n",
        "plt.legend()\n",
        "\n",
        "plt.figure()\n",
        "\n",
        "plt.plot(epochs, loss, 'bo', label='Training loss') \n",
        "plt.plot(epochs, val_loss, 'b', label='Validation loss') \n",
        "plt.title('Training and validation loss') \n",
        "plt.legend()\n",
        "\n",
        "plt.show()"
      ],
      "execution_count": 0,
      "outputs": [
        {
          "output_type": "display_data",
          "data": {
            "image/png": "[encoded data removed]",
            "text/plain": [
              "<Figure size 432x288 with 1 Axes>"
            ]
          },
          "metadata": {
            "tags": []
          }
        },
        {
          "output_type": "display_data",
          "data": {
            "image/png": "[encoded data removed]",
            "text/plain": [
              "<Figure size 432x288 with 1 Axes>"
            ]
          },
          "metadata": {
            "tags": []
          }
        }
      ]
    },
    {
      "metadata": {
        "id": "l0wHVbheFWCw",
        "colab_type": "text"
      },
      "cell_type": "markdown",
      "source": [
        "###discuss\n",
        "\n",
        "그래프를 보면 훈련 정확도는 100에 가까워지고 훈련 손실은 지속적으로 감소하지만 검증 정확도와 검증 손실은 일정 에폭 이후로 크게 달라지지 않는것을 볼 수 있다. 대략적으로 모델이 16에폭 정도 이후에 과대적합 되고 있다."
      ]
    }
  ]
}